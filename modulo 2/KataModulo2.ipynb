{
 "cells": [
  {
   "cell_type": "markdown",
   "metadata": {},
   "source": [
    "# Ejercicio - Crear un paquete\n",
    "Ejecutar en su terminal: python3 -m venv env o bien python -m venv env\n",
    "\n",
    "Ejecuta el comando para activar el entorno virtual:\n",
    "source env/bin/activate\n",
    "env\\bin\\activate\n",
    "\n",
    "o bien: \n",
    "env\\Scripts\\activate\n",
    "\n",
    "Ahora ves en tu terminal (env). Eso significa que has activado tu entorno virtual y se ha aislado del resto de tu máquina.\n",
    "\n",
    "!['cap'](images/captura1.png)\n",
    "\n",
    "Ejecuta el comando pip freeze para ver las bibliotecas instaladas en tu entorno:\n",
    "\n",
    "No deberías obtener respuesta. A continuación, veamos cómo cambia la salida de pip freeze cuando se agrega una biblioteca (un paquete).\n",
    "\n",
    "Ejecuta el comando pip install para instalar una biblioteca:\n",
    "\n",
    "Un gran mensaje de salida de texto dice que está instalando tu biblioteca, y debe terminar con la siguiente oración:\n",
    "\n",
    "Successfully installed python-dateutil-2.8.2 six-1.16.0\n",
    "\n",
    "Vuelve a ejecutar pip freeze para ver cómo ha cambiado tu lista de bibliotecas:\n",
    "\n",
    "!['cap2](images/captura2.png)\n",
    "\n",
    "Hasta ahora, has creado un entorno virtual y le has agregado un paquete. Sin embargo, es posible que estés trabajando en varios proyectos de Python y necesites cambiar entre ellos. Para hacer eso, debes salir (desactivar) tu entorno virtual.\n",
    "\n",
    "Ejecuta el comando deactivate:\n",
    "\n",
    "!['cap3](images/captura3.png)"
   ]
  }
 ],
 "metadata": {
  "language_info": {
   "name": "python"
  },
  "orig_nbformat": 4
 },
 "nbformat": 4,
 "nbformat_minor": 2
}
