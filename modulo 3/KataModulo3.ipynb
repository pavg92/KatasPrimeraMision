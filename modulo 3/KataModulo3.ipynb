{
 "cells": [
  {
   "cell_type": "markdown",
   "metadata": {},
   "source": [
    "# Ejercicio 1"
   ]
  },
  {
   "cell_type": "code",
   "execution_count": 5,
   "metadata": {},
   "outputs": [
    {
     "name": "stdout",
     "output_type": "stream",
     "text": [
      "Advertencia! Asteroide acercandose a la Tierra demasiado rapido!\n"
     ]
    }
   ],
   "source": [
    "velAsteroide =  49\n",
    "\n",
    "if velAsteroide > 25 :\n",
    "    print('Advertencia! Asteroide acercandose a la Tierra demasiado rapido!')\n",
    "else:\n",
    "    print('No hay de que preocuparse')"
   ]
  },
  {
   "cell_type": "markdown",
   "metadata": {},
   "source": [
    "# Ejercicio 2"
   ]
  },
  {
   "cell_type": "code",
   "execution_count": 7,
   "metadata": {},
   "outputs": [
    {
     "name": "stdout",
     "output_type": "stream",
     "text": [
      "Puedes ver un rayo de luz en el cielo\n"
     ]
    }
   ],
   "source": [
    "velAsteroide = 20\n",
    "\n",
    "if velAsteroide >= 20:\n",
    "    print('Puedes ver un rayo de luz en el cielo')\n",
    "\n",
    "else:\n",
    "    print('No puedes ver nada en el cielo')"
   ]
  },
  {
   "cell_type": "markdown",
   "metadata": {},
   "source": [
    "# Ejercicio 3"
   ]
  },
  {
   "cell_type": "code",
   "execution_count": 10,
   "metadata": {},
   "outputs": [
    {
     "name": "stdout",
     "output_type": "stream",
     "text": [
      "Puedes ver un rayo de luz en el cielo\n"
     ]
    }
   ],
   "source": [
    "velAsteroide = 26\n",
    "tamAsteroide = 20\n",
    "\n",
    "if velAsteroide > 25 and tamAsteroide > 25:\n",
    "    print('Advertencia! Un asteroide peligroso se acerca')\n",
    "elif velAsteroide >= 20:\n",
    "    print('Puedes ver un rayo de luz en el cielo')\n",
    "elif tamAsteroide < 25 or velAsteroide < 20:\n",
    "    print('No hay nada que ver')"
   ]
  }
 ],
 "metadata": {
  "interpreter": {
   "hash": "c4cb41806d4c31c90e7ae40e8840874fb43bacd7f0737fbf50d436b6b6c4c252"
  },
  "kernelspec": {
   "display_name": "Python 3.10.2 64-bit",
   "language": "python",
   "name": "python3"
  },
  "language_info": {
   "codemirror_mode": {
    "name": "ipython",
    "version": 3
   },
   "file_extension": ".py",
   "mimetype": "text/x-python",
   "name": "python",
   "nbconvert_exporter": "python",
   "pygments_lexer": "ipython3",
   "version": "3.10.2"
  },
  "orig_nbformat": 4
 },
 "nbformat": 4,
 "nbformat_minor": 2
}
