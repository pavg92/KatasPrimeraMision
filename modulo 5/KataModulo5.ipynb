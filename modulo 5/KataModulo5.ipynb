{
 "cells": [
  {
   "cell_type": "markdown",
   "metadata": {},
   "source": [
    "# Ejercicio1 - Utilizar operadores aritméticos"
   ]
  },
  {
   "cell_type": "code",
   "execution_count": 3,
   "metadata": {},
   "outputs": [
    {
     "name": "stdout",
     "output_type": "stream",
     "text": [
      "La distancia en kilometros es: 628949330\n",
      "La distancia en millas es: 390577533.93\n"
     ]
    }
   ],
   "source": [
    "planet1 = 149597870\n",
    "planet2 = 778547200\n",
    "\n",
    "dist = planet2 - planet1\n",
    "distMi = dist * 0.621\n",
    "\n",
    "print(f'La distancia en kilometros es: {dist}')\n",
    "print(f'La distancia en millas es: {distMi}')"
   ]
  },
  {
   "cell_type": "markdown",
   "metadata": {},
   "source": [
    "# Ejercicio 2: convierte cadenas en números y usa valores absolutos"
   ]
  },
  {
   "cell_type": "code",
   "execution_count": 4,
   "metadata": {},
   "outputs": [
    {
     "name": "stdout",
     "output_type": "stream",
     "text": [
      "La distancia en kilometros entre los planetas es: 50300000\n",
      "La distancia en millas entre los planetas es: 31236300.0\n"
     ]
    }
   ],
   "source": [
    "distPlanet1 = int(input('Introduce la distancia al sol del primer planeta'))\n",
    "distPlanet2 = int(input('Introduce la distancia al sol del segundo planeta'))\n",
    "\n",
    "dist = abs(distPlanet1-distPlanet2)\n",
    "distMi = dist * 0.621\n",
    "\n",
    "print(f'La distancia en kilometros entre los planetas es: {dist}')\n",
    "print(f'La distancia en millas entre los planetas es: {distMi}')"
   ]
  }
 ],
 "metadata": {
  "interpreter": {
   "hash": "c4cb41806d4c31c90e7ae40e8840874fb43bacd7f0737fbf50d436b6b6c4c252"
  },
  "kernelspec": {
   "display_name": "Python 3.10.2 64-bit",
   "language": "python",
   "name": "python3"
  },
  "language_info": {
   "codemirror_mode": {
    "name": "ipython",
    "version": 3
   },
   "file_extension": ".py",
   "mimetype": "text/x-python",
   "name": "python",
   "nbconvert_exporter": "python",
   "pygments_lexer": "ipython3",
   "version": "3.10.2"
  },
  "orig_nbformat": 4
 },
 "nbformat": 4,
 "nbformat_minor": 2
}
