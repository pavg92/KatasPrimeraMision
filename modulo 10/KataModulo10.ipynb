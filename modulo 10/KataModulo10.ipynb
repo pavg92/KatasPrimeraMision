{
 "cells": [
  {
   "cell_type": "markdown",
   "metadata": {},
   "source": [
    "# Excepciones\n",
    "\n",
    "## Tracebacks\n",
    "\n",
    "!['cap'](images/codigoOpen.PNG)\n",
    "\n",
    "!['cap](images/errorOpen.PNG)\n",
    "\n",
    "## Controlando excepciones\n",
    "\n",
    "!['cap'](images/tryConf.PNG)\n",
    "\n",
    "!['cap'](images/conf.PNG)\n",
    "\n",
    "!['cap'](images/maneConf.PNG)\n",
    "\n",
    "!['cap'](images/Captura.PNG)\n",
    "\n",
    "!['cap'](images/Captura2.PNG)\n",
    "\n",
    "!['cap'](images/Captura3.PNG)\n",
    "\n",
    "!['cap'](images/Captura4.PNG)\n",
    "\n",
    "!['cap'](images/Captura5.PNG)\n",
    "\n",
    "!['cap'](images/Captura6.PNG)\n",
    "\n",
    "## Generación de excepciones\n",
    "\n",
    "!['cap'](images/Captura7.PNG)\n",
    "\n",
    "!['cap'](images/Captura8.PNG)\n",
    "\n",
    "!['cap'](images/Captura9.PNG)\n",
    "\n",
    "!['cap'](images/Captura10.PNG)"
   ]
  }
 ],
 "metadata": {
  "interpreter": {
   "hash": "c4cb41806d4c31c90e7ae40e8840874fb43bacd7f0737fbf50d436b6b6c4c252"
  },
  "kernelspec": {
   "display_name": "Python 3.10.2 64-bit",
   "language": "python",
   "name": "python3"
  },
  "language_info": {
   "codemirror_mode": {
    "name": "ipython",
    "version": 3
   },
   "file_extension": ".py",
   "mimetype": "text/x-python",
   "name": "python",
   "nbconvert_exporter": "python",
   "pygments_lexer": "ipython3",
   "version": "3.10.2"
  },
  "orig_nbformat": 4
 },
 "nbformat": 4,
 "nbformat_minor": 2
}
