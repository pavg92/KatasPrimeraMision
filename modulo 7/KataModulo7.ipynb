{
 "cells": [
  {
   "cell_type": "markdown",
   "metadata": {},
   "source": [
    "# Ejercicio 1: Creación de un bucle \"while\" y Ejercicio 2: Creación de un ciclo \"for\""
   ]
  },
  {
   "cell_type": "code",
   "execution_count": 2,
   "metadata": {},
   "outputs": [
    {
     "name": "stdout",
     "output_type": "stream",
     "text": [
      "tierra\n",
      "jupiter\n",
      "saturno\n",
      "urano\n"
     ]
    }
   ],
   "source": [
    "# Ejercicio 1\n",
    "\n",
    "new_planet = input('Escribe el nombre de un planeta')\n",
    "planets = []\n",
    "\n",
    "while new_planet != 'done':\n",
    "    \n",
    "    if new_planet:\n",
    "        planets.append(new_planet)\n",
    "\n",
    "    new_planet = input('Escribe el nombre de un planeta. De lo contraio escribe \"done\" para finalizar')\n",
    "\n",
    "# Ejercicio 2\n",
    "\n",
    "for planet in planets:\n",
    "    print(planet)"
   ]
  }
 ],
 "metadata": {
  "interpreter": {
   "hash": "c4cb41806d4c31c90e7ae40e8840874fb43bacd7f0737fbf50d436b6b6c4c252"
  },
  "kernelspec": {
   "display_name": "Python 3.10.2 64-bit",
   "language": "python",
   "name": "python3"
  },
  "language_info": {
   "codemirror_mode": {
    "name": "ipython",
    "version": 3
   },
   "file_extension": ".py",
   "mimetype": "text/x-python",
   "name": "python",
   "nbconvert_exporter": "python",
   "pygments_lexer": "ipython3",
   "version": "3.10.2"
  },
  "orig_nbformat": 4
 },
 "nbformat": 4,
 "nbformat_minor": 2
}
