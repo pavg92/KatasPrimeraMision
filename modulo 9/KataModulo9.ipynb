{
 "cells": [
  {
   "cell_type": "markdown",
   "metadata": {},
   "source": [
    "# Ejercicio 1: Trabajar con argumentos en funciones"
   ]
  },
  {
   "cell_type": "code",
   "execution_count": 6,
   "metadata": {},
   "outputs": [
    {
     "name": "stdout",
     "output_type": "stream",
     "text": [
      "Tanque 1: 123\n",
      "Tanque 2: 233\n",
      "Tanque 3: 539\n",
      "Promedio de combustible: 298.3333333333333\n"
     ]
    }
   ],
   "source": [
    "def informe(tanq1, tanq2, tanq3):\n",
    "    return f'Tanque 1: {tanq1}\\nTanque 2: {tanq2}\\nTanque 3: {tanq3}\\nPromedio de combustible: {promedio(tanq1,tanq2,tanq3)}'\n",
    "\n",
    "def promedio(tanq1, tanq2, tanq3):\n",
    "    return (tanq1 + tanq2 + tanq3) / 3\n",
    "\n",
    "print(informe(123,233,539))"
   ]
  },
  {
   "cell_type": "markdown",
   "metadata": {},
   "source": [
    "# Ejercicio 2: Trabajar con argumentos de palabras clave en funciones"
   ]
  },
  {
   "cell_type": "code",
   "execution_count": 7,
   "metadata": {},
   "outputs": [
    {
     "name": "stdout",
     "output_type": "stream",
     "text": [
      "Destino: Moon\n",
      "Tiempo total de vuelo: 65\n",
      "Combustible izquierda: 500000\n"
     ]
    }
   ],
   "source": [
    "def informe(horaPre, tiempoVuelo, destino, tanqExt, tanqInter):\n",
    "    return f'Destino: {destino}\\nTiempo total de vuelo: {horaPre + tiempoVuelo}\\nCombustible izquierda: {tanqInter + tanqExt}'\n",
    "\n",
    "print(informe(14, 51, \"Moon\", 200000, 300000))"
   ]
  },
  {
   "cell_type": "code",
   "execution_count": 9,
   "metadata": {},
   "outputs": [
    {
     "name": "stdout",
     "output_type": "stream",
     "text": [
      "Destino: Moon\n",
      "Tiempo total de vuelo: 65\n",
      "Combustible izquierda: 500000\n"
     ]
    }
   ],
   "source": [
    "def informe(destino, *minutos, **tanques):\n",
    "    return f'Destino: {destino}\\nTiempo total de vuelo: {sum(minutos)}\\nCombustible izquierda: {sum(tanques.values())}'\n",
    "\n",
    "print(informe(\"Moon\", 14, 51, externo = 200000, interno = 300000))"
   ]
  },
  {
   "cell_type": "code",
   "execution_count": 10,
   "metadata": {},
   "outputs": [
    {
     "name": "stdout",
     "output_type": "stream",
     "text": [
      "Destino: Moon\n",
      "Tiempo total de vuelo: 65\n",
      "Combustible izquierda: 500000 {'externo': 200000, 'interno': 300000}\n"
     ]
    }
   ],
   "source": [
    "def informe(destino, *minutos, **tanques):\n",
    "    return f'Destino: {destino}\\nTiempo total de vuelo: {sum(minutos)}\\nCombustible izquierda: {sum(tanques.values())} {tanques}'\n",
    "\n",
    "print(informe(\"Moon\", 14, 51, externo = 200000, interno = 300000))"
   ]
  }
 ],
 "metadata": {
  "interpreter": {
   "hash": "c4cb41806d4c31c90e7ae40e8840874fb43bacd7f0737fbf50d436b6b6c4c252"
  },
  "kernelspec": {
   "display_name": "Python 3.10.2 64-bit",
   "language": "python",
   "name": "python3"
  },
  "language_info": {
   "codemirror_mode": {
    "name": "ipython",
    "version": 3
   },
   "file_extension": ".py",
   "mimetype": "text/x-python",
   "name": "python",
   "nbconvert_exporter": "python",
   "pygments_lexer": "ipython3",
   "version": "3.10.2"
  },
  "orig_nbformat": 4
 },
 "nbformat": 4,
 "nbformat_minor": 2
}
