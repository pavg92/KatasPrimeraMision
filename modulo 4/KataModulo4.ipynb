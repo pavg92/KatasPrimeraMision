{
 "cells": [
  {
   "cell_type": "markdown",
   "metadata": {},
   "source": [
    "# Ejercicio 1: Transformar cadenas"
   ]
  },
  {
   "cell_type": "code",
   "execution_count": 8,
   "metadata": {},
   "outputs": [
    {
     "name": "stdout",
     "output_type": "stream",
     "text": [
      " \n",
      "On average, the Moon moves 4cm away from the Earth every year\n",
      " The highest daylight temperature of the Moon is 127 Celsius\n"
     ]
    }
   ],
   "source": [
    "text = \"\"\"Interesting facts about the Moon. The Moon is Earth's only satellite. There are several interesting facts about the Moon and how it affects life here on Earth. \n",
    "On average, the Moon moves 4cm away from the Earth every year. This yearly drift is not significant enough to cause immediate effects on Earth. The highest daylight temperature of the Moon is 127 C.\"\"\"\n",
    "\n",
    "# Divide el texto en cada oración\n",
    "oraciones = text.split('.')\n",
    "\n",
    "# Palabras clave para búsqueda\n",
    "palabras = ['average', 'temperature', 'distance']\n",
    "\n",
    "# Bucle para imprimir solo datos sobre la Luna que estén relacionados con las palabras clave definidas anteriormente\n",
    "for oracion in oraciones:\n",
    "\n",
    "    for palabra in palabras:\n",
    "        if palabra in oracion:\n",
    "            print(oracion.replace('C', 'Celsius'))"
   ]
  }
 ],
 "metadata": {
  "interpreter": {
   "hash": "c4cb41806d4c31c90e7ae40e8840874fb43bacd7f0737fbf50d436b6b6c4c252"
  },
  "kernelspec": {
   "display_name": "Python 3.10.2 64-bit",
   "language": "python",
   "name": "python3"
  },
  "language_info": {
   "codemirror_mode": {
    "name": "ipython",
    "version": 3
   },
   "file_extension": ".py",
   "mimetype": "text/x-python",
   "name": "python",
   "nbconvert_exporter": "python",
   "pygments_lexer": "ipython3",
   "version": "3.10.2"
  },
  "orig_nbformat": 4
 },
 "nbformat": 4,
 "nbformat_minor": 2
}
